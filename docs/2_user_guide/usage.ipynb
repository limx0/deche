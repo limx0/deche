{
 "cells": [
  {
   "cell_type": "code",
   "execution_count": 1,
   "metadata": {},
   "outputs": [],
   "source": [
    "import requests\n",
    "from deche import Cache\n",
    "\n",
    "# Create a cache instance\n",
    "cache = Cache(prefix=\"/home/user/data/cache\")\n",
    "\n",
    "@cache\n",
    "def get(url):\n",
    "    return requests.get(url).content"
   ]
  }
 ],
 "metadata": {
  "kernelspec": {
   "display_name": "Python (deche_gh)",
   "language": "python",
   "name": "deche_gh"
  },
  "language_info": {
   "codemirror_mode": {
    "name": "ipython",
    "version": 3
   },
   "file_extension": ".py",
   "mimetype": "text/x-python",
   "name": "python",
   "nbconvert_exporter": "python",
   "pygments_lexer": "ipython3",
   "version": "3.9.6"
  },
  "widgets": {
   "application/vnd.jupyter.widget-state+json": {
    "state": {},
    "version_major": 2,
    "version_minor": 0
   }
  }
 },
 "nbformat": 4,
 "nbformat_minor": 4
}