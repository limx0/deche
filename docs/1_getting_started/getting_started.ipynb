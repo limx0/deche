{
 "cells": [
  {
   "cell_type": "markdown",
   "metadata": {},
   "source": [
    "# Install\n",
    "\n",
    "`pip install https://github.com/limx0/deche.git`"
   ]
  },
  {
   "cell_type": "markdown",
   "metadata": {},
   "source": [
    "# Quickstart\n",
    "\n",
    "Instantiate a cache\n",
    "\n",
    "```python\n",
    "from deche import Cache\n",
    "\n",
    "cache = Cache()\n",
    "```\n",
    "\n",
    "A wrap your functions! \n",
    "\n",
    "```python\n",
    "@cache\n",
    "def my_slow_function(a, b=1):\n",
    "    time.sleep(a+b)\n",
    "```"
   ]
  }
 ],
 "metadata": {
  "kernelspec": {
   "display_name": "Python (deche)",
   "language": "python",
   "name": "deche"
  },
  "language_info": {
   "codemirror_mode": {
    "name": "ipython",
    "version": 3
   },
   "file_extension": ".py",
   "mimetype": "text/x-python",
   "name": "python",
   "nbconvert_exporter": "python",
   "pygments_lexer": "ipython3",
   "version": "3.9.7"
  },
  "widgets": {
   "application/vnd.jupyter.widget-state+json": {
    "state": {},
    "version_major": 2,
    "version_minor": 0
   }
  }
 },
 "nbformat": 4,
 "nbformat_minor": 4
}